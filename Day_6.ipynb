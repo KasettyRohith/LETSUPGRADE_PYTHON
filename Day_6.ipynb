{
  "nbformat": 4,
  "nbformat_minor": 0,
  "metadata": {
    "colab": {
      "name": "Day_6.ipynb",
      "provenance": [],
      "collapsed_sections": [],
      "authorship_tag": "ABX9TyMW9O8qtysHtTxW+DxNz0aC",
      "include_colab_link": true
    },
    "kernelspec": {
      "name": "python3",
      "display_name": "Python 3"
    }
  },
  "cells": [
    {
      "cell_type": "markdown",
      "metadata": {
        "id": "view-in-github",
        "colab_type": "text"
      },
      "source": [
        "<a href=\"https://colab.research.google.com/github/KasettyRohith/LETSUPGRADE_PYTHON/blob/master/Day_6.ipynb\" target=\"_parent\"><img src=\"https://colab.research.google.com/assets/colab-badge.svg\" alt=\"Open In Colab\"/></a>"
      ]
    },
    {
      "cell_type": "code",
      "metadata": {
        "id": "ciZQ3B3BJOs8",
        "colab_type": "code",
        "colab": {}
      },
      "source": [
        "class bank():\n",
        "  def __init__(self,ownername,balance):\n",
        "    self.ownername=ownername\n",
        "    self.balance=balance\n",
        "  def deposit(self,amount):\n",
        "    self.balance+=amount\n",
        "  def withdrawl(self,amnt):\n",
        "    self.balance-=amnt    "
      ],
      "execution_count": null,
      "outputs": []
    },
    {
      "cell_type": "code",
      "metadata": {
        "id": "KQDZlgm_JeEM",
        "colab_type": "code",
        "colab": {
          "base_uri": "https://localhost:8080/",
          "height": 34
        },
        "outputId": "926d0481-0b2b-410d-dcb8-996385cc8008"
      },
      "source": [
        "bankacc=bank(\"Rohith\",10025)\n",
        "bankacc.withdrawl(25)\n",
        "bankacc.balance"
      ],
      "execution_count": null,
      "outputs": [
        {
          "output_type": "execute_result",
          "data": {
            "text/plain": [
              "10000"
            ]
          },
          "metadata": {
            "tags": []
          },
          "execution_count": 3
        }
      ]
    },
    {
      "cell_type": "code",
      "metadata": {
        "id": "EZkyzgAbJ2H-",
        "colab_type": "code",
        "colab": {
          "base_uri": "https://localhost:8080/",
          "height": 34
        },
        "outputId": "29815c95-3711-49e8-c81f-9a8a9ae21ee7"
      },
      "source": [
        "bankacc.deposit(500)\n",
        "bankacc.balance"
      ],
      "execution_count": null,
      "outputs": [
        {
          "output_type": "execute_result",
          "data": {
            "text/plain": [
              "10500"
            ]
          },
          "metadata": {
            "tags": []
          },
          "execution_count": 4
        }
      ]
    },
    {
      "cell_type": "code",
      "metadata": {
        "id": "Fd7ZuYRmKJzj",
        "colab_type": "code",
        "colab": {}
      },
      "source": [
        "class cone():\n",
        "  def __init__(self,radius,height):\n",
        "    self.radius=radius\n",
        "    self.height=height\n",
        "  def volume(self,vol):\n",
        "    self.volume=3.14*radius*radius*(height/3)\n",
        "    print(self.volume)\n",
        "  def surf(self,surface):\n",
        "    self.surface=3.14*radius^2\n",
        "  def sides(self,side):\n",
        "    self.side=3.14*radius*(radius^2*height^2)^(1/2)    "
      ],
      "execution_count": 3,
      "outputs": []
    },
    {
      "cell_type": "code",
      "metadata": {
        "id": "UfohH9aBMHX1",
        "colab_type": "code",
        "colab": {
          "base_uri": "https://localhost:8080/",
          "height": 34
        },
        "outputId": "85b5aa25-d5ef-4303-feb7-e9b756de28b4"
      },
      "source": [
        "Cone=cone(5,12)\n",
        "print(Cone.volume)"
      ],
      "execution_count": null,
      "outputs": [
        {
          "output_type": "stream",
          "text": [
            "<bound method cone.volume of <__main__.cone object at 0x7f2def16e0b8>>\n"
          ],
          "name": "stdout"
        }
      ]
    }
  ]
}