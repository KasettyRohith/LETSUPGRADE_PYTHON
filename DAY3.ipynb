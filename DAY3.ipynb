{
  "nbformat": 4,
  "nbformat_minor": 0,
  "metadata": {
    "colab": {
      "name": "DAY3.ipynb",
      "provenance": [],
      "authorship_tag": "ABX9TyMwguzjpXuIUTUX1K0pV6lw",
      "include_colab_link": true
    },
    "kernelspec": {
      "name": "python3",
      "display_name": "Python 3"
    }
  },
  "cells": [
    {
      "cell_type": "markdown",
      "metadata": {
        "id": "view-in-github",
        "colab_type": "text"
      },
      "source": [
        "<a href=\"https://colab.research.google.com/github/KasettyRohith/LETSUPGRADE_PYTHON/blob/master/DAY3.ipynb\" target=\"_parent\"><img src=\"https://colab.research.google.com/assets/colab-badge.svg\" alt=\"Open In Colab\"/></a>"
      ]
    },
    {
      "cell_type": "code",
      "metadata": {
        "id": "3fDIql8gcOUu",
        "colab_type": "code",
        "colab": {
          "base_uri": "https://localhost:8080/",
          "height": 54
        },
        "outputId": "3bcbb942-c38c-4d15-c4ff-7fa3a8adf13c"
      },
      "source": [
        "#prime number program using for loop ASSIGNMENT 2 DAY3\n",
        "for num in range (1, 201):\n",
        "    count = 0\n",
        "    for i in range(2, (num//2 + 1)):\n",
        "        if(num % i == 0):\n",
        "            count = count + 1\n",
        "            break\n",
        "\n",
        "    if (count == 0 and num != 1):\n",
        "        print(num, end = '  ')"
      ],
      "execution_count": null,
      "outputs": [
        {
          "output_type": "stream",
          "text": [
            "2  3  5  7  11  13  17  19  23  29  31  37  41  43  47  53  59  61  67  71  73  79  83  89  97  101  103  107  109  113  127  131  137  139  149  151  157  163  167  173  179  181  191  193  197  199  "
          ],
          "name": "stdout"
        }
      ]
    },
    {
      "cell_type": "code",
      "metadata": {
        "id": "hGtALNFmdDIA",
        "colab_type": "code",
        "colab": {
          "base_uri": "https://localhost:8080/",
          "height": 50
        },
        "outputId": "3e2ecf1d-9980-4a0b-df8f-e24cb2c89ecc"
      },
      "source": [
        "#Assignment-1 Day 3\n",
        "alt=int(input(\"Enter the altitude\"))\n",
        "if(alt<1000):\n",
        "  print(\"Land the plane\");\n",
        "elif(alt>1000 and alt<5000):\n",
        "  print(\"come down to 1000ft\")\n",
        "elif(alt>5000):\n",
        "  print(\"Go and try later\")  "
      ],
      "execution_count": 5,
      "outputs": [
        {
          "output_type": "stream",
          "text": [
            "Enter the altitude5050\n",
            "Go and try later\n"
          ],
          "name": "stdout"
        }
      ]
    }
  ]
}