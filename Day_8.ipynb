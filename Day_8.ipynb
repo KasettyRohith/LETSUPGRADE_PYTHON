{
  "nbformat": 4,
  "nbformat_minor": 0,
  "metadata": {
    "colab": {
      "name": "Day 8.ipynb",
      "provenance": [],
      "authorship_tag": "ABX9TyPjgBq8znWh+7G0qS8ovMWY",
      "include_colab_link": true
    },
    "kernelspec": {
      "name": "python3",
      "display_name": "Python 3"
    }
  },
  "cells": [
    {
      "cell_type": "markdown",
      "metadata": {
        "id": "view-in-github",
        "colab_type": "text"
      },
      "source": [
        "<a href=\"https://colab.research.google.com/github/KasettyRohith/LETSUPGRADE_PYTHON/blob/master/Day_8.ipynb\" target=\"_parent\"><img src=\"https://colab.research.google.com/assets/colab-badge.svg\" alt=\"Open In Colab\"/></a>"
      ]
    },
    {
      "cell_type": "code",
      "metadata": {
        "id": "56VS1Ptt00tM",
        "colab_type": "code",
        "colab": {}
      },
      "source": [
        "#Day 8 Assignment-2\n",
        "file= open(\"hello.txt\",\"w\")\n",
        "file.write(\"Hey My name is Rohith\")\n",
        "file.close()"
      ],
      "execution_count": 2,
      "outputs": []
    },
    {
      "cell_type": "code",
      "metadata": {
        "id": "6cvHNmE92SV1",
        "colab_type": "code",
        "colab": {
          "base_uri": "https://localhost:8080/",
          "height": 34
        },
        "outputId": "a9696d6f-cf5f-468b-9fe4-04396457d051"
      },
      "source": [
        "try:\n",
        "  file=open(\"hello.txt\",\"r\")\n",
        "  file.write(\"Hey Lets Upgrade\")\n",
        "  file.close()\n",
        "except:\n",
        "  print(\"Check your code once there is some error in it...\")  "
      ],
      "execution_count": 3,
      "outputs": [
        {
          "output_type": "stream",
          "text": [
            "Check your code once there is some error in it...\n"
          ],
          "name": "stdout"
        }
      ]
    },
    {
      "cell_type": "code",
      "metadata": {
        "id": "MtAnA2FD3PbD",
        "colab_type": "code",
        "colab": {}
      },
      "source": [
        "# Day 8 Assignment 1\n",
        "def somefunc(functionwrap):\n",
        "  def wrap_func(n):\n",
        "    print(\"Hey this is wrap function to somefunc\")\n",
        "    functionwrap(n)\n",
        "    print(\"Hey this is below code for the wrap to somefunc\")\n",
        "  return wrap_func "
      ],
      "execution_count": 20,
      "outputs": []
    },
    {
      "cell_type": "code",
      "metadata": {
        "id": "YWcWpBte6SNm",
        "colab_type": "code",
        "colab": {}
      },
      "source": [
        "# Python program to display the Fibonacci sequence\n",
        "\n",
        "\n",
        "def Fibonacci(n):\n",
        "  #n=int(input())\n",
        "  if n<=0:\n",
        "\n",
        "    print(\"Incorrect input\")\n",
        "    # First Fibonacci number is 0\n",
        "  elif n==1:\n",
        "    return 0\n",
        "  # Second Fibonacci number is 1\n",
        "  elif n==2:\n",
        "    return 1\n",
        "  else:\n",
        "    return Fibonacci(n-1)+Fibonacci(n-2)"
      ],
      "execution_count": 21,
      "outputs": []
    },
    {
      "cell_type": "code",
      "metadata": {
        "id": "BNJ-tLeF69J1",
        "colab_type": "code",
        "colab": {
          "base_uri": "https://localhost:8080/",
          "height": 50
        },
        "outputId": "e7665230-9901-4ecf-939d-9d6e122e44f8"
      },
      "source": [
        "modified_fibb=somefunc(Fibonacci)\n",
        "modified_fibb(9)"
      ],
      "execution_count": 22,
      "outputs": [
        {
          "output_type": "stream",
          "text": [
            "Hey this is wrap function to somefunc\n",
            "Hey this is below code for the wrap to somefunc\n"
          ],
          "name": "stdout"
        }
      ]
    }
  ]
}