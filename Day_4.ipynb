{
  "nbformat": 4,
  "nbformat_minor": 0,
  "metadata": {
    "colab": {
      "name": "Day_4.ipynb",
      "provenance": [],
      "authorship_tag": "ABX9TyOeasiGhcfYXZsLW1Tdgm8x",
      "include_colab_link": true
    },
    "kernelspec": {
      "name": "python3",
      "display_name": "Python 3"
    }
  },
  "cells": [
    {
      "cell_type": "markdown",
      "metadata": {
        "id": "view-in-github",
        "colab_type": "text"
      },
      "source": [
        "<a href=\"https://colab.research.google.com/github/KasettyRohith/LETSUPGRADE_PYTHON/blob/master/Day_4.ipynb\" target=\"_parent\"><img src=\"https://colab.research.google.com/assets/colab-badge.svg\" alt=\"Open In Colab\"/></a>"
      ]
    },
    {
      "cell_type": "code",
      "metadata": {
        "id": "qsUeBoSq3LRT",
        "colab_type": "code",
        "colab": {
          "base_uri": "https://localhost:8080/",
          "height": 336
        },
        "outputId": "a95c035a-6f20-4c85-8313-5111f7727105"
      },
      "source": [
        "#Armstrong Number\n",
        "for i in range(1042000,702648266):\n",
        "  n1=num=i\n",
        "  cnt=0\n",
        "  summ=0 \n",
        "  while(n1!=0):\n",
        "   cnt=cnt+1\n",
        "   n1=n1//10\n",
        "  while(i>0):\n",
        "    t=i%10\n",
        "    summ=summ+t**cnt\n",
        "    i=i//10\n",
        "    if(num==summ):\n",
        "      print(num)"
      ],
      "execution_count": null,
      "outputs": [
        {
          "output_type": "stream",
          "text": [
            "1741725\n",
            "2097280\n",
            "2097281\n",
            "3278756\n",
            "4210818\n",
            "4782969\n",
            "4861095\n",
            "9800817\n",
            "9926315\n",
            "16790338\n",
            "16790338\n",
            "21816066\n",
            "24678050\n",
            "24678051\n",
            "26682755\n",
            "88593477\n",
            "134217728\n",
            "146511208\n",
            "178477585\n"
          ],
          "name": "stdout"
        }
      ]
    }
  ]
}