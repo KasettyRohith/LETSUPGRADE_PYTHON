{
  "nbformat": 4,
  "nbformat_minor": 0,
  "metadata": {
    "colab": {
      "name": "Day_9.ipynb",
      "provenance": [],
      "authorship_tag": "ABX9TyPtyRnpQ0yNzH0SsNQfLXVX",
      "include_colab_link": true
    },
    "kernelspec": {
      "name": "python3",
      "display_name": "Python 3"
    }
  },
  "cells": [
    {
      "cell_type": "markdown",
      "metadata": {
        "id": "view-in-github",
        "colab_type": "text"
      },
      "source": [
        "<a href=\"https://colab.research.google.com/github/KasettyRohith/LETSUPGRADE_PYTHON/blob/master/Day_9.ipynb\" target=\"_parent\"><img src=\"https://colab.research.google.com/assets/colab-badge.svg\" alt=\"Open In Colab\"/></a>"
      ]
    },
    {
      "cell_type": "code",
      "metadata": {
        "id": "vO34y4Ek4s-z",
        "colab_type": "code",
        "colab": {
          "base_uri": "https://localhost:8080/",
          "height": 34
        },
        "outputId": "d95a7999-24be-4dd6-e9a4-3e3d449ced34"
      },
      "source": [
        "%%writefile primecheck.py\n",
        "'''\n",
        "Hey this is code for prime\n",
        "\n",
        "'''\n",
        "def checkprime(num):\n",
        "  checker = 0\n",
        "  for divisor in range(2, num//2+1):\n",
        "    if num%divisor==0:\n",
        "       checker=1\n",
        "       print(num , \"is not prime\")\n",
        "       break\n",
        "  if num != 1 and checker == 0 :\n",
        "    print(num, \"is prime\")  \n",
        "checkprime(6)      "
      ],
      "execution_count": 7,
      "outputs": [
        {
          "output_type": "stream",
          "text": [
            "Overwriting primecheck.py\n"
          ],
          "name": "stdout"
        }
      ]
    },
    {
      "cell_type": "code",
      "metadata": {
        "id": "3UJ6CLwN5UQs",
        "colab_type": "code",
        "colab": {
          "base_uri": "https://localhost:8080/",
          "height": 406
        },
        "outputId": "ab5a5af9-2a76-4936-be8c-b6c357139f87"
      },
      "source": [
        "!pip install pylint"
      ],
      "execution_count": 4,
      "outputs": [
        {
          "output_type": "stream",
          "text": [
            "Collecting pylint\n",
            "\u001b[?25l  Downloading https://files.pythonhosted.org/packages/fb/13/519c1264a134beab2be4bac8dd3e64948980a5ca7833b31cf0255b21f20a/pylint-2.6.0-py3-none-any.whl (325kB)\n",
            "\r\u001b[K     |█                               | 10kB 18.6MB/s eta 0:00:01\r\u001b[K     |██                              | 20kB 1.9MB/s eta 0:00:01\r\u001b[K     |███                             | 30kB 2.5MB/s eta 0:00:01\r\u001b[K     |████                            | 40kB 2.7MB/s eta 0:00:01\r\u001b[K     |█████                           | 51kB 2.1MB/s eta 0:00:01\r\u001b[K     |██████                          | 61kB 2.5MB/s eta 0:00:01\r\u001b[K     |███████                         | 71kB 2.7MB/s eta 0:00:01\r\u001b[K     |████████                        | 81kB 2.9MB/s eta 0:00:01\r\u001b[K     |█████████                       | 92kB 3.1MB/s eta 0:00:01\r\u001b[K     |██████████                      | 102kB 3.0MB/s eta 0:00:01\r\u001b[K     |███████████                     | 112kB 3.0MB/s eta 0:00:01\r\u001b[K     |████████████                    | 122kB 3.0MB/s eta 0:00:01\r\u001b[K     |█████████████                   | 133kB 3.0MB/s eta 0:00:01\r\u001b[K     |██████████████                  | 143kB 3.0MB/s eta 0:00:01\r\u001b[K     |███████████████                 | 153kB 3.0MB/s eta 0:00:01\r\u001b[K     |████████████████                | 163kB 3.0MB/s eta 0:00:01\r\u001b[K     |█████████████████               | 174kB 3.0MB/s eta 0:00:01\r\u001b[K     |██████████████████              | 184kB 3.0MB/s eta 0:00:01\r\u001b[K     |███████████████████▏            | 194kB 3.0MB/s eta 0:00:01\r\u001b[K     |████████████████████▏           | 204kB 3.0MB/s eta 0:00:01\r\u001b[K     |█████████████████████▏          | 215kB 3.0MB/s eta 0:00:01\r\u001b[K     |██████████████████████▏         | 225kB 3.0MB/s eta 0:00:01\r\u001b[K     |███████████████████████▏        | 235kB 3.0MB/s eta 0:00:01\r\u001b[K     |████████████████████████▏       | 245kB 3.0MB/s eta 0:00:01\r\u001b[K     |█████████████████████████▏      | 256kB 3.0MB/s eta 0:00:01\r\u001b[K     |██████████████████████████▏     | 266kB 3.0MB/s eta 0:00:01\r\u001b[K     |███████████████████████████▏    | 276kB 3.0MB/s eta 0:00:01\r\u001b[K     |████████████████████████████▏   | 286kB 3.0MB/s eta 0:00:01\r\u001b[K     |█████████████████████████████▏  | 296kB 3.0MB/s eta 0:00:01\r\u001b[K     |██████████████████████████████▏ | 307kB 3.0MB/s eta 0:00:01\r\u001b[K     |███████████████████████████████▏| 317kB 3.0MB/s eta 0:00:01\r\u001b[K     |████████████████████████████████| 327kB 3.0MB/s \n",
            "\u001b[?25hRequirement already satisfied: toml>=0.7.1 in /usr/local/lib/python3.6/dist-packages (from pylint) (0.10.1)\n",
            "Collecting mccabe<0.7,>=0.6\n",
            "  Downloading https://files.pythonhosted.org/packages/87/89/479dc97e18549e21354893e4ee4ef36db1d237534982482c3681ee6e7b57/mccabe-0.6.1-py2.py3-none-any.whl\n",
            "Collecting astroid<=2.5,>=2.4.0\n",
            "\u001b[?25l  Downloading https://files.pythonhosted.org/packages/24/a8/5133f51967fb21e46ee50831c3f5dda49e976b7f915408d670b1603d41d6/astroid-2.4.2-py3-none-any.whl (213kB)\n",
            "\u001b[K     |████████████████████████████████| 215kB 12.7MB/s \n",
            "\u001b[?25hCollecting isort<6,>=4.2.5\n",
            "\u001b[?25l  Downloading https://files.pythonhosted.org/packages/d1/25/7ed95ccb07d3ce52598f5a57d002da6a18074ea8749991b10936cc20e539/isort-5.5.2-py3-none-any.whl (95kB)\n",
            "\u001b[K     |████████████████████████████████| 102kB 7.7MB/s \n",
            "\u001b[?25hRequirement already satisfied: six~=1.12 in /usr/local/lib/python3.6/dist-packages (from astroid<=2.5,>=2.4.0->pylint) (1.15.0)\n",
            "Collecting typed-ast<1.5,>=1.4.0; implementation_name == \"cpython\" and python_version < \"3.8\"\n",
            "\u001b[?25l  Downloading https://files.pythonhosted.org/packages/90/ed/5459080d95eb87a02fe860d447197be63b6e2b5e9ff73c2b0a85622994f4/typed_ast-1.4.1-cp36-cp36m-manylinux1_x86_64.whl (737kB)\n",
            "\u001b[K     |████████████████████████████████| 747kB 13.6MB/s \n",
            "\u001b[?25hRequirement already satisfied: wrapt~=1.11 in /usr/local/lib/python3.6/dist-packages (from astroid<=2.5,>=2.4.0->pylint) (1.12.1)\n",
            "Collecting lazy-object-proxy==1.4.*\n",
            "\u001b[?25l  Downloading https://files.pythonhosted.org/packages/0b/dd/b1e3407e9e6913cf178e506cd0dee818e58694d9a5cd1984e3f6a8b9a10f/lazy_object_proxy-1.4.3-cp36-cp36m-manylinux1_x86_64.whl (55kB)\n",
            "\u001b[K     |████████████████████████████████| 61kB 7.5MB/s \n",
            "\u001b[?25hInstalling collected packages: mccabe, typed-ast, lazy-object-proxy, astroid, isort, pylint\n",
            "Successfully installed astroid-2.4.2 isort-5.5.2 lazy-object-proxy-1.4.3 mccabe-0.6.1 pylint-2.6.0 typed-ast-1.4.1\n"
          ],
          "name": "stdout"
        }
      ]
    },
    {
      "cell_type": "code",
      "metadata": {
        "id": "VX6QYgkB5h-Z",
        "colab_type": "code",
        "colab": {
          "base_uri": "https://localhost:8080/",
          "height": 286
        },
        "outputId": "6957f751-e435-4dcd-a12c-eeb0538512a5"
      },
      "source": [
        "!pylint \"primecheck.py\""
      ],
      "execution_count": 8,
      "outputs": [
        {
          "output_type": "stream",
          "text": [
            "************* Module primecheck\n",
            "primecheck.py:6:0: W0311: Bad indentation. Found 2 spaces, expected 4 (bad-indentation)\n",
            "primecheck.py:7:0: W0311: Bad indentation. Found 2 spaces, expected 4 (bad-indentation)\n",
            "primecheck.py:8:0: W0311: Bad indentation. Found 4 spaces, expected 8 (bad-indentation)\n",
            "primecheck.py:9:0: W0311: Bad indentation. Found 7 spaces, expected 12 (bad-indentation)\n",
            "primecheck.py:10:0: W0311: Bad indentation. Found 7 spaces, expected 12 (bad-indentation)\n",
            "primecheck.py:11:0: W0311: Bad indentation. Found 7 spaces, expected 12 (bad-indentation)\n",
            "primecheck.py:12:0: W0311: Bad indentation. Found 2 spaces, expected 4 (bad-indentation)\n",
            "primecheck.py:13:26: C0303: Trailing whitespace (trailing-whitespace)\n",
            "primecheck.py:13:0: W0311: Bad indentation. Found 4 spaces, expected 8 (bad-indentation)\n",
            "primecheck.py:14:0: C0304: Final newline missing (missing-final-newline)\n",
            "primecheck.py:5:0: C0116: Missing function or method docstring (missing-function-docstring)\n",
            "\n",
            "--------------------------------------------------------------------\n",
            "Your code has been rated at -1.00/10 (previous run: -1.00/10, +0.00)\n",
            "\n"
          ],
          "name": "stdout"
        }
      ]
    },
    {
      "cell_type": "code",
      "metadata": {
        "id": "cMgEsdkg_WeV",
        "colab_type": "code",
        "colab": {
          "base_uri": "https://localhost:8080/",
          "height": 34
        },
        "outputId": "ec45ec9e-62f1-4688-8eb7-828800c085a0"
      },
      "source": [
        "%%writefile hey.py\n",
        "import unittest\n",
        "import primecheck\n",
        "class doprime(unittest.hey):\n",
        "  def prime(self):\n",
        "    abc=6\n",
        "    result=primecheck.checkprime(abc)\n",
        "    self.assertEqual(result,\"6 is not prime\")\n",
        " if __name__==\"__main__\":\n",
        "   unittest.main()   \n"
      ],
      "execution_count": 10,
      "outputs": [
        {
          "output_type": "stream",
          "text": [
            "Writing hey.py\n"
          ],
          "name": "stdout"
        }
      ]
    },
    {
      "cell_type": "code",
      "metadata": {
        "id": "gtB4Dl2Y9I2x",
        "colab_type": "code",
        "colab": {}
      },
      "source": [
        "#Armstrong Number\n",
        "lst=list(range(1,1001))\n",
        "def armstrongnumber(lst):\n",
        "  for i in lst:\n",
        "    \n",
        "    n1=num=i\n",
        "    cnt=0\n",
        "    summ=0 \n",
        "    while(n1!=0):\n",
        "      cnt=cnt+1\n",
        "      n1=n1//10\n",
        "    while(i>0):\n",
        "      t=i%10\n",
        "      summ=summ+t**cnt\n",
        "      i=i//10\n",
        "    if(num==summ):\n",
        "        yield num"
      ],
      "execution_count": null,
      "outputs": []
    },
    {
      "cell_type": "code",
      "metadata": {
        "id": "q_Q8mwli-Rga",
        "colab_type": "code",
        "colab": {
          "base_uri": "https://localhost:8080/",
          "height": 34
        },
        "outputId": "53978ad9-b34f-4862-ca7b-200488854132"
      },
      "source": [
        "print(list(armstrongnumber(lst)))"
      ],
      "execution_count": null,
      "outputs": [
        {
          "output_type": "stream",
          "text": [
            "[1, 2, 3, 4, 5, 6, 7, 8, 9, 153, 370, 371, 407]\n"
          ],
          "name": "stdout"
        }
      ]
    }
  ]
}